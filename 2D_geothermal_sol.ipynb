{
 "cells": [
  {
   "cell_type": "markdown",
   "metadata": {},
   "source": [
    "## <font color='Blue'>Introduction</font>\n",
    "###  In this exercise, we run simulation in a 2D single layer geothermal model.\n",
    "* The realistic formation heterogeneity is used for permeability map. \n",
    "* The simulation can be run under both low- and high-enthalpy conditions with cold water injection.\n",
    "\n",
    "\n",
    "## <font color='blue'>The objectives:</font>\n",
    "1. Introduce custom <font color='red'>'Model'</font> class based on \n",
    " * Class [DartsModel](darts/models/darts_model.py) with base model capabilities\n",
    " * Class [StructReservoir](darts/models/reservoirs/struct_reservoir.py) with structured reservoir\n",
    " * Class [Geothermal](darts/models/physics/geothermal.py) for basic geothermal physics\n",
    " * Class [Geothermal_operators](darts/models/physics/geothermal_operators.py) defines OBL operators\n",
    "2. Use run_python procedure to control run from the python script\n",
    "3. Introduce wells and time-dependent well controls\n",
    "4. Redefine physical properties and run simulation with custom-defined property.\n"
   ]
  },
  {
   "cell_type": "markdown",
   "metadata": {},
   "source": [
    "## <font color='Blue'>Let's start!</font>"
   ]
  },
  {
   "cell_type": "markdown",
   "metadata": {},
   "source": [
    "### 1. Import the physics, base model and simulation model into workspace"
   ]
  },
  {
   "cell_type": "code",
   "execution_count": null,
   "metadata": {},
   "outputs": [],
   "source": [
    "from darts.models.darts_model import DartsModel\n",
    "from darts.models.reservoirs.struct_reservoir import StructReservoir\n",
    "from darts.models.physics.geothermal import Geothermal\n",
    "from darts.engines import value_vector\n",
    "import numpy as np"
   ]
  },
  {
   "cell_type": "markdown",
   "metadata": {},
   "source": [
    "### 2. Build Model class\n",
    "#### Brief Introduction of model inheritance\n",
    "* Here create the <font color='red'>'Model' </font>  class, which inherits from <font color='red'>DartsModel</font> (the base class).\n",
    "* It keeps all the functionalities of <font color='red'>DartsModel</font> and can also be extended to add more functionalities.\n",
    "* If a function is redefined in subclass, the function in base class with identical name will be overridden (just like C++)."
   ]
  },
  {
   "cell_type": "code",
   "execution_count": null,
   "metadata": {},
   "outputs": [],
   "source": [
    "class Model(DartsModel):\n",
    "    def __init__(self):\n",
    "        # call base class constructor\n",
    "        super().__init__()\n",
    "\n",
    "        self.timer.node[\"initialization\"].start()\n",
    "        \n",
    "        # predefined reservoir size: 60*40*1\n",
    "        self.nx = 60\n",
    "        self.ny = 40\n",
    "        self.nz = 1\n",
    "        # read-in permeability and porosity from files\n",
    "        self.kx = np.genfromtxt('Geothermal/permx_2D.txt', skip_header=True, skip_footer=True).flatten()\n",
    "        self.ky = np.genfromtxt('Geothermal/permy_2D.txt', skip_header=True, skip_footer=True).flatten()\n",
    "        self.kz = np.genfromtxt('Geothermal/permz_2D.txt', skip_header=True, skip_footer=True).flatten()\n",
    "        self.poro = np.genfromtxt('Geothermal/poro_2D.txt', skip_header=True, skip_footer=True).flatten()\n",
    "        \n",
    "        # Create reservoir using StructReservoir. \n",
    "        # Just pass-in the necessary parameters and a box reservoir is generated.\n",
    "        self.reservoir = StructReservoir(self.timer, nx=self.nx, ny=self.ny, nz=self.nz, dx=30, dy=30,\n",
    "                                         dz=2.5, permx=self.kx, permy=self.ky, permz=self.kz,\n",
    "                                         poro=self.poro, depth=1000)\n",
    "        # Get the number of reservoir grids\n",
    "        self.nb = self.reservoir.mesh.n_res_blocks\n",
    "        \n",
    "        # Create numpy arrays wrapped around mesh data (no copying)\n",
    "        self.volume = np.array(self.reservoir.mesh.volume, copy=False)\n",
    "        self.hcap = np.array(self.reservoir.mesh.heat_capacity, copy=False)\n",
    "        self.cond = np.array(self.reservoir.mesh.rock_cond, copy=False)\n",
    "\n",
    "        # Set open-flow boundary condition\n",
    "        self.volume[0:self.nb:60] = 8e9\n",
    "        self.volume[59:self.nb:60] = 8e9\n",
    "        \n",
    "        # Constant definitions\n",
    "        self.cond.fill(200)\n",
    "        self.hcap.fill(2200)\n",
    "\n",
    "        # add wells        \n",
    "        self.reservoir.add_well(\"I1\")\n",
    "        self.reservoir.add_perforation(well=self.reservoir.wells[-1], i=15, j=20, k=1, well_index=10,\n",
    "                                           multi_segment=False, verbose=True)\n",
    "\n",
    "        self.reservoir.add_well(\"P1\")\n",
    "        self.reservoir.add_perforation(well=self.reservoir.wells[-1], i=48, j=20, k=1, well_index=10,\n",
    "                                           multi_segment=False, verbose=True)\n",
    "        \n",
    "        # add predefined physics\n",
    "        self.physics = Geothermal(self.timer, 128, 0, 500, 1000, 20000, grav=True)\n",
    "        \n",
    "        # time step setting\n",
    "        self.params.first_ts = 0.001\n",
    "        self.params.mult_ts = 2\n",
    "        self.params.max_ts = 100\n",
    "\n",
    "        # Newton tolerance is relatively high because of L2-norm for residual and well segments\n",
    "        self.params.tolerance_newton = 1e-3\n",
    "        self.params.tolerance_linear = 1e-5\n",
    "        self.params.max_i_newton = 20\n",
    "        self.params.max_i_linear = 50\n",
    "        \n",
    "        # default runtime\n",
    "        self.runtime = 1000\n",
    "        self.timer.node[\"initialization\"].stop()\n",
    "        \n",
    "    '''Give initial pressure and temperature conditions to reservoir'''\n",
    "    def set_initial_conditions(self):\n",
    "        self.physics.set_uniform_initial_conditions(self.reservoir.mesh, uniform_pressure=200, \\\n",
    "                                                    uniform_temperature=348.15)\n",
    "        \n",
    "    '''Give the well controls'''\n",
    "    def set_boundary_conditions(self):\n",
    "        for i, w in enumerate(self.reservoir.wells):\n",
    "            if i == 0:\n",
    "                w.control = self.physics.new_bhp_water_inj(250, 308.15)\n",
    "            else:\n",
    "                w.control = self.physics.new_bhp_prod(150)\n",
    "                              "
   ]
  },
  {
   "cell_type": "markdown",
   "metadata": {},
   "source": [
    "### <font color='red'>Note: The following correction should be added to class above</font>"
   ]
  },
  {
   "cell_type": "markdown",
   "metadata": {},
   "source": [
    "<img style=\"float: left;\" src=\"slides/Slide27.JPG\" width=\"60%\">"
   ]
  },
  {
   "cell_type": "markdown",
   "metadata": {},
   "source": [
    "### 3. Create and initialize simulation model"
   ]
  },
  {
   "cell_type": "code",
   "execution_count": null,
   "metadata": {},
   "outputs": [],
   "source": [
    "# build a Model object\n",
    "m = Model()\n",
    "m.init()"
   ]
  },
  {
   "cell_type": "markdown",
   "metadata": {},
   "source": [
    "### 4. Run simulation and print statistics"
   ]
  },
  {
   "cell_type": "code",
   "execution_count": null,
   "metadata": {},
   "outputs": [],
   "source": [
    "m.run_python()\n",
    "m.print_timers()"
   ]
  },
  {
   "cell_type": "markdown",
   "metadata": {},
   "source": [
    "### 5. Data process and plot"
   ]
  },
  {
   "cell_type": "code",
   "execution_count": null,
   "metadata": {
    "scrolled": false
   },
   "outputs": [],
   "source": [
    "%matplotlib inline\n",
    "\n",
    "import pandas as pd\n",
    "# access to engine time-dependent data\n",
    "time_data = pd.DataFrame.from_dict(m.physics.engine.time_data)\n",
    "# wirte timedata to output file\n",
    "time_data.to_pickle(\"darts_time_data.pkl\")\n",
    "# write timedata to excel file\n",
    "writer = pd.ExcelWriter('time_data.xlsx')\n",
    "time_data.to_excel(writer, 'Sheet1')\n",
    "writer.save()\n",
    "\n",
    "# read data from output file\n",
    "time_data = pd.read_pickle(\"darts_time_data.pkl\")\n",
    "\n",
    "from darts.tools.plot_darts import *\n",
    "# plot production temperature\n",
    "p_w = 'P1'\n",
    "ax = plot_water_rate_darts(p_w, time_data)\n",
    "ax = plot_temp_darts(p_w, time_data)\n",
    "plt.show()"
   ]
  },
  {
   "cell_type": "code",
   "execution_count": null,
   "metadata": {
    "scrolled": false
   },
   "outputs": [],
   "source": [
    "# access to engine solution\n",
    "X = np.array(m.physics.engine.X, copy=False)\n",
    "# plot pressure map and surface, layer 1\n",
    "m.plot_layer_map_offline(X[0::2], 1, \"Pressure\")"
   ]
  },
  {
   "cell_type": "code",
   "execution_count": null,
   "metadata": {},
   "outputs": [],
   "source": [
    "# plot temperature map and surface, layer 1\n",
    "from darts.models.physics.iapws.iapws_property import iapws_temperature_evaluator\n",
    "# evaluator of temperature from property package\n",
    "temperature = iapws_temperature_evaluator()\n",
    "data_len = int(len(X) / 2)\n",
    "Temp = np.zeros(data_len)\n",
    "# compute temperature block-wise\n",
    "for i in range(0, data_len):\n",
    "    Temp[i] = temperature.evaluate([X[2 * i], X[2 * i + 1]])\n",
    "# plot temperatu\n",
    "m.plot_layer_map_offline(Temp, 1, \"Temperature\")"
   ]
  },
  {
   "cell_type": "markdown",
   "metadata": {},
   "source": [
    "<img style=\"float: left;\" src=\"slides/Slide28.JPG\" width=\"60%\">"
   ]
  },
  {
   "cell_type": "code",
   "execution_count": null,
   "metadata": {},
   "outputs": [],
   "source": []
  },
  {
   "cell_type": "code",
   "execution_count": null,
   "metadata": {},
   "outputs": [],
   "source": []
  },
  {
   "cell_type": "code",
   "execution_count": null,
   "metadata": {},
   "outputs": [],
   "source": []
  },
  {
   "cell_type": "markdown",
   "metadata": {},
   "source": [
    "<img style=\"float: left;\" src=\"slides/Slide29.JPG\" width=\"60%\">"
   ]
  },
  {
   "cell_type": "code",
   "execution_count": null,
   "metadata": {},
   "outputs": [],
   "source": []
  },
  {
   "cell_type": "code",
   "execution_count": null,
   "metadata": {
    "scrolled": false
   },
   "outputs": [],
   "source": []
  },
  {
   "cell_type": "markdown",
   "metadata": {},
   "source": [
    "<img style=\"float: left;\" src=\"slides/Slide30.JPG\" width=\"60%\">"
   ]
  },
  {
   "cell_type": "code",
   "execution_count": null,
   "metadata": {},
   "outputs": [],
   "source": []
  },
  {
   "cell_type": "code",
   "execution_count": null,
   "metadata": {},
   "outputs": [],
   "source": []
  },
  {
   "cell_type": "markdown",
   "metadata": {},
   "source": [
    "<img style=\"float: left;\" src=\"slides/Slide31.JPG\" width=\"100%\">"
   ]
  }
 ],
 "metadata": {
  "kernelspec": {
   "display_name": "Python 3",
   "language": "python",
   "name": "python3"
  },
  "language_info": {
   "codemirror_mode": {
    "name": "ipython",
    "version": 3
   },
   "file_extension": ".py",
   "mimetype": "text/x-python",
   "name": "python",
   "nbconvert_exporter": "python",
   "pygments_lexer": "ipython3",
   "version": "3.6.5"
  }
 },
 "nbformat": 4,
 "nbformat_minor": 2
}
