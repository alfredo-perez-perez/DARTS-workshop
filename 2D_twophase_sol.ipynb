{
 "cells": [
  {
   "cell_type": "markdown",
   "metadata": {},
   "source": [
    "## <font color='Blue'>Introduction</font>\n",
    "###  In this exercise, we run simulation in a 2D single layer two-phase model.\n",
    "* The realistic formation heterogeneity is used for permeability map. \n",
    "\n",
    "## <font color='blue'>The objectives:</font>\n",
    "1. Introduce custom <font color='red'>'Model'</font> class based on \n",
    " * Class [DartsModel](darts/models/darts_model.py) with base model capabilities\n",
    " * Class [StructReservoir](darts/models/reservoirs/struct_reservoir.py) with structured reservoir\n",
    " * Class [Deadoil](darts/models/physics/dead_oil_python.py) for basic dead oil physics\n",
    " * Class [Deadoil-properties](darts/models/physics/do_properties_python.py) for dead oil properties, such as density, viscosity and relative permeability\n",
    "2. Use run_python procedure to control run from the python script\n",
    "3. Introduce wells and time-dependent well controls\n",
    "4. Redefine physical properties and run simulation with custom-defined property.\n",
    "\n",
    "## <font color='Blue'>Let's start!</font>\n"
   ]
  },
  {
   "cell_type": "markdown",
   "metadata": {},
   "source": [
    "<img style=\"float: left;\" src=\"slides/Slide33.JPG\" width=\"60%\">"
   ]
  },
  {
   "cell_type": "code",
   "execution_count": null,
   "metadata": {},
   "outputs": [],
   "source": [
    "from darts.models.reservoirs.struct_reservoir import StructReservoir\n",
    "from darts.models.physics.dead_oil_python import DeadOil\n",
    "from darts.models.darts_model import DartsModel\n",
    "from darts.engines import value_vector\n",
    "from darts.tools.keyword_file_tools import load_single_keyword\n",
    "import numpy as np"
   ]
  },
  {
   "cell_type": "markdown",
   "metadata": {},
   "source": [
    "<img style=\"float: left;\" src=\"slides/Slide34.JPG\" width=\"60%\">"
   ]
  },
  {
   "cell_type": "markdown",
   "metadata": {},
   "source": [
    "#### Brief Introduction of model inheritance\n",
    "* Here create the <font color='red'>'Model' </font>  class, which inherits from <font color='red'>DartsModel</font> (the base class).\n",
    "* It keeps all the functionalities of <font color='red'>DartsModel</font> and can also be extended to add more functionalities.\n",
    "* If a function is redefined in subclass, the function in base class with identical name will be overridden."
   ]
  },
  {
   "cell_type": "code",
   "execution_count": null,
   "metadata": {},
   "outputs": [],
   "source": [
    "class Model(DartsModel):\n",
    "    def __init__(self):\n",
    "        # call base class constructor\n",
    "        super().__init__()\n",
    "\n",
    "        # measure time spend on reading/initialization\n",
    "        self.timer.node[\"initialization\"].start()\n",
    "\n",
    "        # create reservoir\n",
    "        self.nx = 60\n",
    "        self.ny = 60\n",
    "        self.nz = 1\n",
    "        \n",
    "        self.dx = 8\n",
    "        self.dy = 8\n",
    "        self.dz = 4\n",
    "\n",
    "#         self.permx = np.ones(self.nx*self.ny)*1000\n",
    "#         self.actnum = np.ones(self.nx*self.ny)\n",
    "        \n",
    "        self.permx = load_single_keyword('Egg/data.in','PERMX')\n",
    "        self.actnum = load_single_keyword('Egg/data.in','ACTNUM')       \n",
    "\n",
    "        self.permy = self.permx\n",
    "        self.permz = 0.1 * self.permx\n",
    "        self.poro = 0.2\n",
    "        self.depth = 4000\n",
    "\n",
    "        # run discretization\n",
    "        self.reservoir = StructReservoir(self.timer, nx=self.nx, ny=self.ny, nz=self.nz, dx=self.dx, dy=self.dy,\n",
    "                                         dz=self.dz, permx=self.permx, permy=self.permy, permz=self.permz,\n",
    "                                         poro=self.poro, depth=self.depth,actnum=self.actnum)\n",
    "\n",
    "        # add two wells\n",
    "        well_diam = 0.2\n",
    "        well_rad = well_diam/2\n",
    "\n",
    "\n",
    "            \n",
    "#         self.reservoir.add_well(\"INJ1\")\n",
    "#         self.reservoir.add_perforation(self.reservoir.wells[-1], 5, 57, 1, well_radius=well_rad, multi_segment=False)\n",
    "#         self.reservoir.inj_wells = [self.reservoir.wells[-1]]        \n",
    "\n",
    "#         self.reservoir.add_well(\"PRD1\")\n",
    "#         self.reservoir.add_perforation(self.reservoir.wells[-1], 43, 18, 1, well_radius=well_rad, multi_segment=False)\n",
    "#         self.reservoir.prod_wells = [self.reservoir.wells[-1]]\n",
    "\n",
    "        inj_loc = [(5, 57), (29, 53), (4, 35), (27, 29), (49, 35), (10, 9), (32, 3), (57, 7)]\n",
    "        prod_loc = [(16, 43), (35, 40), (23, 16), (43, 18)]\n",
    "        for i in range(len(inj_loc)):\n",
    "            self.reservoir.add_well(\"INJ\"+str(i+1))\n",
    "            self.reservoir.add_perforation(self.reservoir.wells[-1], int(inj_loc[i][0]), int(inj_loc[i][1]), 1, well_radius=well_rad, multi_segment=False)\n",
    "            self.reservoir.inj_wells = [self.reservoir.wells[-1]]\n",
    "        for i in range(len(prod_loc)):\n",
    "            self.reservoir.add_well(\"PRD\"+str(i+1))\n",
    "            self.reservoir.add_perforation(self.reservoir.wells[-1], int(prod_loc[i][0]), int(prod_loc[i][1]), 1, well_radius=well_rad, multi_segment=False)\n",
    "            self.reservoir.prod_wells = [self.reservoir.wells[-1]]\n",
    "\n",
    "        # create physics\n",
    "        self.physics = DeadOil(timer=self.timer, physics_filename='Egg/physics.in',\n",
    "                               n_points=201, min_p=300, max_p=500, min_z=1e-8)\n",
    "\n",
    "        self.params.first_ts = 1\n",
    "        self.params.mult_ts = 2\n",
    "        self.params.max_ts = 50\n",
    "        self.params.tolerance_newton = 1e-2\n",
    "        self.params.tolerance_linear = 1e-3\n",
    "\n",
    "        self.inj = [1]\n",
    "\n",
    "        self.runtime = 500\n",
    "\n",
    "        self.timer.node[\"initialization\"].stop()\n",
    "\n",
    "    def set_initial_conditions(self):\n",
    "        self.physics.set_uniform_initial_conditions(self.reservoir.mesh, uniform_pressure=400,\n",
    "                                                    uniform_composition=[2e-2])\n",
    "\n",
    "    def set_boundary_conditions(self):\n",
    "        for i, w in enumerate(self.reservoir.wells):\n",
    "            if w.name[:3] == \"INJ\":\n",
    "                w.control = self.physics.new_bhp_water_inj(410, self.inj)\n",
    "                # w.constraint = self.physics.new_rate_water_prod(210)\n",
    "            else:\n",
    "                w.control = self.physics.new_bhp_prod(390)"
   ]
  },
  {
   "cell_type": "markdown",
   "metadata": {},
   "source": [
    "<img style=\"float: left;\" src=\"slides/Slide35.JPG\" width=\"60%\">"
   ]
  },
  {
   "cell_type": "code",
   "execution_count": null,
   "metadata": {},
   "outputs": [],
   "source": [
    "m = Model()\n",
    "m.init()\n",
    "m.run_python()\n",
    "m.print_timers()"
   ]
  },
  {
   "cell_type": "markdown",
   "metadata": {},
   "source": [
    "<img style=\"float: left;\" src=\"slides/Slide36.JPG\" width=\"60%\">"
   ]
  },
  {
   "cell_type": "code",
   "execution_count": null,
   "metadata": {},
   "outputs": [],
   "source": [
    "%matplotlib inline\n",
    "import pandas as pd\n",
    "time_data = pd.DataFrame.from_dict(m.physics.engine.time_data)\n",
    "# wirte timedata to output file\n",
    "time_data.to_pickle(\"darts_time_data.pkl\")\n",
    "# write timedata to excel file\n",
    "writer = pd.ExcelWriter('time_data.xlsx')\n",
    "time_data.to_excel(writer, 'Sheet1')\n",
    "writer.save()"
   ]
  },
  {
   "cell_type": "code",
   "execution_count": null,
   "metadata": {},
   "outputs": [],
   "source": []
  },
  {
   "cell_type": "markdown",
   "metadata": {},
   "source": [
    "<img style=\"float: left;\" src=\"slides/Slide37.JPG\" width=\"60%\">"
   ]
  },
  {
   "cell_type": "code",
   "execution_count": null,
   "metadata": {},
   "outputs": [],
   "source": []
  },
  {
   "cell_type": "markdown",
   "metadata": {},
   "source": [
    "### Next we process the active grid, prepare plotting and plot pressure"
   ]
  },
  {
   "cell_type": "code",
   "execution_count": null,
   "metadata": {
    "scrolled": true
   },
   "outputs": [],
   "source": [
    "import matplotlib.pyplot as plt\n",
    "from darts.models.physics.do_operator_python import *\n",
    "\n",
    "# process active grid\n",
    "X = np.array(m.physics.engine.X, copy=False)\n",
    "nb = m.nx * m.ny\n",
    "nb = np.count_nonzero(m.actnum)\n",
    "\n",
    "p = -np.ones(m.nx*m.ny)\n",
    "z = -np.ones(m.nx*m.ny)\n",
    "s = -np.ones(m.nx*m.ny)\n",
    "\n",
    "p[act>0] = X[0:2*nb:2]\n",
    "z[act>0] = X[1:2*nb:2]\n",
    "\n",
    "plt.figure(num=2, figsize=(12,4))\n",
    "plt.subplot(121)\n",
    "plt.pcolor(p.reshape(m.ny, m.nx),cmap='jet')\n",
    "plt.clim([390,410])\n",
    "plt.colorbar()\n"
   ]
  },
  {
   "cell_type": "markdown",
   "metadata": {},
   "source": [
    "<img style=\"float: left;\" src=\"slides/Slide38.JPG\" width=\"60%\">"
   ]
  },
  {
   "cell_type": "code",
   "execution_count": null,
   "metadata": {},
   "outputs": [],
   "source": []
  },
  {
   "cell_type": "markdown",
   "metadata": {},
   "source": [
    "<img style=\"float: left;\" src=\"slides/Slide40.JPG\" width=\"60%\">"
   ]
  },
  {
   "cell_type": "markdown",
   "metadata": {},
   "source": [
    "<img style=\"float: left;\" src=\"slides/Slide41.JPG\" width=\"60%\">"
   ]
  },
  {
   "cell_type": "code",
   "execution_count": null,
   "metadata": {},
   "outputs": [],
   "source": []
  },
  {
   "cell_type": "markdown",
   "metadata": {},
   "source": [
    "<img style=\"float: left;\" src=\"slides/Slide42.JPG\" width=\"60%\">"
   ]
  },
  {
   "cell_type": "markdown",
   "metadata": {},
   "source": [
    "<img style=\"float: left;\" src=\"slides/Slide43.JPG\" width=\"60%\">"
   ]
  },
  {
   "cell_type": "code",
   "execution_count": null,
   "metadata": {},
   "outputs": [],
   "source": []
  }
 ],
 "metadata": {
  "kernelspec": {
   "display_name": "Python 3",
   "language": "python",
   "name": "python3"
  },
  "language_info": {
   "codemirror_mode": {
    "name": "ipython",
    "version": 3
   },
   "file_extension": ".py",
   "mimetype": "text/x-python",
   "name": "python",
   "nbconvert_exporter": "python",
   "pygments_lexer": "ipython3",
   "version": "3.6.5"
  }
 },
 "nbformat": 4,
 "nbformat_minor": 2
}
